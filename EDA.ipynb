{
 "cells": [
  {
   "cell_type": "code",
   "execution_count": 3,
   "outputs": [],
   "source": [
    "import pandas as pd"
   ],
   "metadata": {
    "collapsed": false,
    "pycharm": {
     "name": "#%%\n"
    }
   }
  },
  {
   "cell_type": "code",
   "execution_count": 8,
   "outputs": [],
   "source": [
    "import os"
   ],
   "metadata": {
    "collapsed": false,
    "pycharm": {
     "name": "#%%\n"
    }
   }
  },
  {
   "cell_type": "code",
   "execution_count": 13,
   "outputs": [
    {
     "name": "stdout",
     "output_type": "stream",
     "text": [
      "/home/heerak_son/workspace/dacon/competition1\n"
     ]
    }
   ],
   "source": [
    "try:\n",
    "    os.chdir(os.path.join(os.getcwd(), 'dacon/competition1'))\n",
    "    print(os.getcwd())\n",
    "except:\n",
    "    print(os.getcwd())"
   ],
   "metadata": {
    "collapsed": false,
    "pycharm": {
     "name": "#%%\n"
    }
   }
  },
  {
   "cell_type": "code",
   "execution_count": 15,
   "outputs": [
    {
     "data": {
      "text/plain": "'/home/heerak_son/workspace/dacon/competition1/data'"
     },
     "execution_count": 15,
     "metadata": {},
     "output_type": "execute_result"
    }
   ],
   "source": [
    "data_path = os.path.join(os.getcwd(), 'data')\n",
    "data_path"
   ],
   "metadata": {
    "collapsed": false,
    "pycharm": {
     "name": "#%%\n"
    }
   }
  },
  {
   "cell_type": "code",
   "execution_count": 16,
   "outputs": [],
   "source": [
    "train_data_path = os.path.join(data_path, 'train.csv')\n",
    "train_df = pd.read_csv(train_data_path)"
   ],
   "metadata": {
    "collapsed": false,
    "pycharm": {
     "name": "#%%\n"
    }
   }
  },
  {
   "cell_type": "code",
   "execution_count": 17,
   "outputs": [
    {
     "data": {
      "text/plain": "            id                       img_path  \\\n0  TRAIN_00000  ./image/train/TRAIN_00000.jpg   \n1  TRAIN_00001  ./image/train/TRAIN_00001.jpg   \n2  TRAIN_00002  ./image/train/TRAIN_00002.jpg   \n3  TRAIN_00003  ./image/train/TRAIN_00003.jpg   \n4  TRAIN_00004  ./image/train/TRAIN_00004.jpg   \n\n                                            overview cat1    cat2   cat3  \n0  소안항은 조용한 섬으로 인근해안이 청정해역으로 일찍이 김 양식을 해서 높은 소득을 ...   자연   자연관광지  항구/포구  \n1  경기도 이천시 모가면에 있는 골프장으로 대중제 18홀이다. 회원제로 개장을 했다가 ...  레포츠  육상 레포츠     골프  \n2  금오산성숯불갈비는 한우고기만을 전문적으로 취급하고 사용하는 부식 자재 또한 유기농법...   음식     음식점     한식  \n3  철판 위에서 요리하는 안동찜닭을 맛볼 수 있는 곳이다. 경상북도 안동시에 있는 한식...   음식     음식점     한식  \n4  ※ 영업시간 10:30 ~ 20:30\\n\\n3대에 걸쳐 아귀만을 전문으로 취급하는 ...   음식     음식점     한식  ",
      "text/html": "<div>\n<style scoped>\n    .dataframe tbody tr th:only-of-type {\n        vertical-align: middle;\n    }\n\n    .dataframe tbody tr th {\n        vertical-align: top;\n    }\n\n    .dataframe thead th {\n        text-align: right;\n    }\n</style>\n<table border=\"1\" class=\"dataframe\">\n  <thead>\n    <tr style=\"text-align: right;\">\n      <th></th>\n      <th>id</th>\n      <th>img_path</th>\n      <th>overview</th>\n      <th>cat1</th>\n      <th>cat2</th>\n      <th>cat3</th>\n    </tr>\n  </thead>\n  <tbody>\n    <tr>\n      <th>0</th>\n      <td>TRAIN_00000</td>\n      <td>./image/train/TRAIN_00000.jpg</td>\n      <td>소안항은 조용한 섬으로 인근해안이 청정해역으로 일찍이 김 양식을 해서 높은 소득을 ...</td>\n      <td>자연</td>\n      <td>자연관광지</td>\n      <td>항구/포구</td>\n    </tr>\n    <tr>\n      <th>1</th>\n      <td>TRAIN_00001</td>\n      <td>./image/train/TRAIN_00001.jpg</td>\n      <td>경기도 이천시 모가면에 있는 골프장으로 대중제 18홀이다. 회원제로 개장을 했다가 ...</td>\n      <td>레포츠</td>\n      <td>육상 레포츠</td>\n      <td>골프</td>\n    </tr>\n    <tr>\n      <th>2</th>\n      <td>TRAIN_00002</td>\n      <td>./image/train/TRAIN_00002.jpg</td>\n      <td>금오산성숯불갈비는 한우고기만을 전문적으로 취급하고 사용하는 부식 자재 또한 유기농법...</td>\n      <td>음식</td>\n      <td>음식점</td>\n      <td>한식</td>\n    </tr>\n    <tr>\n      <th>3</th>\n      <td>TRAIN_00003</td>\n      <td>./image/train/TRAIN_00003.jpg</td>\n      <td>철판 위에서 요리하는 안동찜닭을 맛볼 수 있는 곳이다. 경상북도 안동시에 있는 한식...</td>\n      <td>음식</td>\n      <td>음식점</td>\n      <td>한식</td>\n    </tr>\n    <tr>\n      <th>4</th>\n      <td>TRAIN_00004</td>\n      <td>./image/train/TRAIN_00004.jpg</td>\n      <td>※ 영업시간 10:30 ~ 20:30\\n\\n3대에 걸쳐 아귀만을 전문으로 취급하는 ...</td>\n      <td>음식</td>\n      <td>음식점</td>\n      <td>한식</td>\n    </tr>\n  </tbody>\n</table>\n</div>"
     },
     "execution_count": 17,
     "metadata": {},
     "output_type": "execute_result"
    }
   ],
   "source": [
    "train_df.head()"
   ],
   "metadata": {
    "collapsed": false,
    "pycharm": {
     "name": "#%%\n"
    }
   }
  },
  {
   "cell_type": "code",
   "execution_count": 18,
   "outputs": [
    {
     "data": {
      "text/plain": "한식                3438\n야영장,오토캠핑장         1558\n바/까페               785\n유적지/사적지            622\n일반축제               549\n                  ... \nMTB                  2\n대중콘서트                2\n인라인(실내 인라인 포함)       2\n스카이다이빙               2\n클래식음악회               2\nName: cat3, Length: 128, dtype: int64"
     },
     "execution_count": 18,
     "metadata": {},
     "output_type": "execute_result"
    }
   ],
   "source": [
    "train_df.cat3.value_counts()"
   ],
   "metadata": {
    "collapsed": false,
    "pycharm": {
     "name": "#%%\n"
    }
   }
  },
  {
   "cell_type": "code",
   "execution_count": 20,
   "outputs": [
    {
     "data": {
      "text/plain": "인문(문화/예술/역사)    5614\n음식              4912\n레포츠             2611\n자연              1719\n숙박              1434\n쇼핑               696\nName: cat1, dtype: int64"
     },
     "execution_count": 20,
     "metadata": {},
     "output_type": "execute_result"
    }
   ],
   "source": [
    "train_df.cat1.value_counts()"
   ],
   "metadata": {
    "collapsed": false,
    "pycharm": {
     "name": "#%%\n"
    }
   }
  },
  {
   "cell_type": "code",
   "execution_count": 21,
   "outputs": [
    {
     "data": {
      "text/plain": "음식점       4912\n육상 레포츠    2288\n자연관광지     1578\n역사관광지     1571\n숙박시설      1434\n문화시설      1220\n휴양관광지      889\n체험관광지      805\n쇼핑         696\n축제         569\n건축/조형물     328\n수상 레포츠     277\n관광자원       141\n공연/행사      139\n산업관광지       93\n복합 레포츠      24\n항공 레포츠      11\n레포츠소개       11\nName: cat2, dtype: int64"
     },
     "execution_count": 21,
     "metadata": {},
     "output_type": "execute_result"
    }
   ],
   "source": [
    "train_df.cat2.value_counts()"
   ],
   "metadata": {
    "collapsed": false,
    "pycharm": {
     "name": "#%%\n"
    }
   }
  },
  {
   "cell_type": "code",
   "execution_count": 24,
   "outputs": [
    {
     "name": "stdout",
     "output_type": "stream",
     "text": [
      "자연\n"
     ]
    },
    {
     "data": {
      "text/plain": "자연관광지    1578\n관광자원      141\nName: cat2, dtype: int64"
     },
     "metadata": {},
     "output_type": "display_data"
    },
    {
     "name": "stdout",
     "output_type": "stream",
     "text": [
      "자연관광지\n"
     ]
    },
    {
     "data": {
      "text/plain": "산          239\n해수욕장       207\n자연생태관광지    207\n계곡         160\n항구/포구      134\n자연휴양림      118\n섬          111\n강          104\n수목원         95\n폭포          40\n호수          30\n해안절경        25\n등대          24\n국립공원        21\n동굴          20\n약수터         17\n도립공원        15\n군립공원        11\nName: cat3, dtype: int64"
     },
     "metadata": {},
     "output_type": "display_data"
    },
    {
     "name": "stdout",
     "output_type": "stream",
     "text": [
      "관광자원\n"
     ]
    },
    {
     "data": {
      "text/plain": "희귀동.식물    88\n기암괴석      53\nName: cat3, dtype: int64"
     },
     "metadata": {},
     "output_type": "display_data"
    },
    {
     "name": "stdout",
     "output_type": "stream",
     "text": [
      "레포츠\n"
     ]
    },
    {
     "data": {
      "text/plain": "육상 레포츠    2288\n수상 레포츠     277\n복합 레포츠      24\n항공 레포츠      11\n레포츠소개       11\nName: cat2, dtype: int64"
     },
     "metadata": {},
     "output_type": "display_data"
    },
    {
     "name": "stdout",
     "output_type": "stream",
     "text": [
      "육상 레포츠\n"
     ]
    },
    {
     "data": {
      "text/plain": "야영장,오토캠핑장         1558\n트래킹                246\n골프                 179\n수련시설                95\n스키(보드) 렌탈샵          60\n자동차경주               35\n썰매장                 27\n승마                  21\n자전거하이킹              13\n스케이트                12\n사격장                  9\n카트                   7\n스키/스노보드              6\n번지점프                 4\nATV                  4\n빙벽등반                 4\n카지노                  4\nMTB                  2\n인라인(실내 인라인 포함)       2\nName: cat3, dtype: int64"
     },
     "metadata": {},
     "output_type": "display_data"
    },
    {
     "name": "stdout",
     "output_type": "stream",
     "text": [
      "복합 레포츠\n"
     ]
    },
    {
     "data": {
      "text/plain": "복합 레포츠    24\nName: cat3, dtype: int64"
     },
     "metadata": {},
     "output_type": "display_data"
    },
    {
     "name": "stdout",
     "output_type": "stream",
     "text": [
      "수상 레포츠\n"
     ]
    },
    {
     "data": {
      "text/plain": "민물낚시             119\n바다낚시              57\n수영                27\n윈드서핑/제트스키         27\n래프팅               18\n요트                12\n카약/카누             10\n스노쿨링/스킨스쿠버다이빙      7\nName: cat3, dtype: int64"
     },
     "metadata": {},
     "output_type": "display_data"
    },
    {
     "name": "stdout",
     "output_type": "stream",
     "text": [
      "항공 레포츠\n"
     ]
    },
    {
     "data": {
      "text/plain": "헹글라이딩/패러글라이딩    9\n스카이다이빙          2\nName: cat3, dtype: int64"
     },
     "metadata": {},
     "output_type": "display_data"
    },
    {
     "name": "stdout",
     "output_type": "stream",
     "text": [
      "레포츠소개\n"
     ]
    },
    {
     "data": {
      "text/plain": "수상레포츠    11\nName: cat3, dtype: int64"
     },
     "metadata": {},
     "output_type": "display_data"
    },
    {
     "name": "stdout",
     "output_type": "stream",
     "text": [
      "음식\n"
     ]
    },
    {
     "data": {
      "text/plain": "음식점    4912\nName: cat2, dtype: int64"
     },
     "metadata": {},
     "output_type": "display_data"
    },
    {
     "name": "stdout",
     "output_type": "stream",
     "text": [
      "음식점\n"
     ]
    },
    {
     "data": {
      "text/plain": "한식         3438\n바/까페        785\n서양식         226\n중식          209\n일식          151\n패밀리레스토랑      61\n채식전문점        36\n클럽            6\nName: cat3, dtype: int64"
     },
     "metadata": {},
     "output_type": "display_data"
    },
    {
     "name": "stdout",
     "output_type": "stream",
     "text": [
      "인문(문화/예술/역사)\n"
     ]
    },
    {
     "data": {
      "text/plain": "역사관광지     1571\n문화시설      1220\n휴양관광지      889\n체험관광지      805\n축제         569\n건축/조형물     328\n공연/행사      139\n산업관광지       93\nName: cat2, dtype: int64"
     },
     "metadata": {},
     "output_type": "display_data"
    },
    {
     "name": "stdout",
     "output_type": "stream",
     "text": [
      "축제\n"
     ]
    },
    {
     "data": {
      "text/plain": "일반축제      549\n문화관광축제     20\nName: cat3, dtype: int64"
     },
     "metadata": {},
     "output_type": "display_data"
    },
    {
     "name": "stdout",
     "output_type": "stream",
     "text": [
      "역사관광지\n"
     ]
    },
    {
     "data": {
      "text/plain": "유적지/사적지    622\n사찰         495\n고택          92\n성           85\n민속마을        76\n종교성지        65\n생가          43\n고궁          36\n안보관광        34\n문           23\nName: cat3, dtype: int64"
     },
     "metadata": {},
     "output_type": "display_data"
    },
    {
     "name": "stdout",
     "output_type": "stream",
     "text": [
      "문화시설\n"
     ]
    },
    {
     "data": {
      "text/plain": "박물관       310\n전시관       243\n미술관/화랑    204\n공연장       120\n문화원       113\n도서관        92\n기념관        64\n문화전수시설     26\n대형서점       17\n컨벤션센터      11\n학교          9\n외국문화원       7\n영화관         4\nName: cat3, dtype: int64"
     },
     "metadata": {},
     "output_type": "display_data"
    },
    {
     "name": "stdout",
     "output_type": "stream",
     "text": [
      "휴양관광지\n"
     ]
    },
    {
     "data": {
      "text/plain": "공원           271\n유원지          211\n테마공원         172\n관광단지         126\n온천/욕장/스파      53\n유람선/잠수함관광     30\n헬스투어          15\n이색찜질방         11\nName: cat3, dtype: int64"
     },
     "metadata": {},
     "output_type": "display_data"
    },
    {
     "name": "stdout",
     "output_type": "stream",
     "text": [
      "공연/행사\n"
     ]
    },
    {
     "data": {
      "text/plain": "기타행사      71\n박람회       29\n컨벤션       22\n전통공연       6\n연극         5\n대중콘서트      2\n뮤지컬        2\n클래식음악회     2\nName: cat3, dtype: int64"
     },
     "metadata": {},
     "output_type": "display_data"
    },
    {
     "name": "stdout",
     "output_type": "stream",
     "text": [
      "체험관광지\n"
     ]
    },
    {
     "data": {
      "text/plain": "이색거리         467\n농.산.어촌 체험    332\n이색체험           6\nName: cat3, dtype: int64"
     },
     "metadata": {},
     "output_type": "display_data"
    },
    {
     "name": "stdout",
     "output_type": "stream",
     "text": [
      "건축/조형물\n"
     ]
    },
    {
     "data": {
      "text/plain": "기념탑/기념비/전망대    148\n유명건물           105\n다리/대교           41\n동상              18\n분수               8\n터널               8\nName: cat3, dtype: int64"
     },
     "metadata": {},
     "output_type": "display_data"
    },
    {
     "name": "stdout",
     "output_type": "stream",
     "text": [
      "산업관광지\n"
     ]
    },
    {
     "data": {
      "text/plain": "기타     79\n식음료    10\n발전소     4\nName: cat3, dtype: int64"
     },
     "metadata": {},
     "output_type": "display_data"
    },
    {
     "name": "stdout",
     "output_type": "stream",
     "text": [
      "숙박\n"
     ]
    },
    {
     "data": {
      "text/plain": "숙박시설    1434\nName: cat2, dtype: int64"
     },
     "metadata": {},
     "output_type": "display_data"
    },
    {
     "name": "stdout",
     "output_type": "stream",
     "text": [
      "숙박시설\n"
     ]
    },
    {
     "data": {
      "text/plain": "펜션          445\n한옥스테이       404\n모텔          340\n게스트하우스       83\n홈스테이         57\n민박           39\n콘도미니엄        34\n유스호스텔        20\n서비스드레지던스     12\nName: cat3, dtype: int64"
     },
     "metadata": {},
     "output_type": "display_data"
    },
    {
     "name": "stdout",
     "output_type": "stream",
     "text": [
      "쇼핑\n"
     ]
    },
    {
     "data": {
      "text/plain": "쇼핑    696\nName: cat2, dtype: int64"
     },
     "metadata": {},
     "output_type": "display_data"
    },
    {
     "name": "stdout",
     "output_type": "stream",
     "text": [
      "쇼핑\n"
     ]
    },
    {
     "data": {
      "text/plain": "상설시장      270\n전문상가      173\n5일장       165\n공예,공방      41\n특산물판매점     37\n면세점         6\n백화점         4\nName: cat3, dtype: int64"
     },
     "metadata": {},
     "output_type": "display_data"
    }
   ],
   "source": [
    "for cat in train_df.cat1.unique():\n",
    "    print(cat)\n",
    "    display(train_df[train_df.cat1 == cat].cat2.value_counts())\n",
    "    for sub_cat in train_df[train_df.cat1 == cat].cat2.unique():\n",
    "        print(sub_cat)\n",
    "        display(train_df[train_df.cat2 == sub_cat].cat3.value_counts())"
   ],
   "metadata": {
    "collapsed": false,
    "pycharm": {
     "name": "#%%\n"
    }
   }
  },
  {
   "cell_type": "code",
   "execution_count": 25,
   "outputs": [],
   "source": [
    "import timm"
   ],
   "metadata": {
    "collapsed": false,
    "pycharm": {
     "name": "#%%\n"
    }
   }
  },
  {
   "cell_type": "code",
   "execution_count": 26,
   "outputs": [
    {
     "data": {
      "text/plain": "['adv_inception_v3',\n 'bat_resnext26ts',\n 'beit_base_patch16_224',\n 'beit_base_patch16_224_in22k',\n 'beit_base_patch16_384',\n 'beit_large_patch16_224',\n 'beit_large_patch16_224_in22k',\n 'beit_large_patch16_384',\n 'beit_large_patch16_512',\n 'beitv2_base_patch16_224',\n 'beitv2_base_patch16_224_in22k',\n 'beitv2_large_patch16_224',\n 'beitv2_large_patch16_224_in22k',\n 'botnet26t_256',\n 'cait_m36_384',\n 'cait_m48_448',\n 'cait_s24_224',\n 'cait_s24_384',\n 'cait_s36_384',\n 'cait_xs24_384',\n 'cait_xxs24_224',\n 'cait_xxs24_384',\n 'cait_xxs36_224',\n 'cait_xxs36_384',\n 'coat_lite_mini',\n 'coat_lite_small',\n 'coat_lite_tiny',\n 'coat_mini',\n 'coat_tiny',\n 'coatnet_0_rw_224',\n 'coatnet_1_rw_224',\n 'coatnet_bn_0_rw_224',\n 'coatnet_nano_rw_224',\n 'coatnet_rmlp_1_rw_224',\n 'coatnet_rmlp_nano_rw_224',\n 'convit_base',\n 'convit_small',\n 'convit_tiny',\n 'convmixer_768_32',\n 'convmixer_1024_20_ks9_p14',\n 'convmixer_1536_20',\n 'convnext_atto',\n 'convnext_atto_ols',\n 'convnext_base',\n 'convnext_base_384_in22ft1k',\n 'convnext_base_in22ft1k',\n 'convnext_base_in22k',\n 'convnext_femto',\n 'convnext_femto_ols',\n 'convnext_large',\n 'convnext_large_384_in22ft1k',\n 'convnext_large_in22ft1k',\n 'convnext_large_in22k',\n 'convnext_nano',\n 'convnext_nano_ols',\n 'convnext_pico',\n 'convnext_pico_ols',\n 'convnext_small',\n 'convnext_small_384_in22ft1k',\n 'convnext_small_in22ft1k',\n 'convnext_small_in22k',\n 'convnext_tiny',\n 'convnext_tiny_384_in22ft1k',\n 'convnext_tiny_hnf',\n 'convnext_tiny_in22ft1k',\n 'convnext_tiny_in22k',\n 'convnext_xlarge_384_in22ft1k',\n 'convnext_xlarge_in22ft1k',\n 'convnext_xlarge_in22k',\n 'crossvit_9_240',\n 'crossvit_9_dagger_240',\n 'crossvit_15_240',\n 'crossvit_15_dagger_240',\n 'crossvit_15_dagger_408',\n 'crossvit_18_240',\n 'crossvit_18_dagger_240',\n 'crossvit_18_dagger_408',\n 'crossvit_base_240',\n 'crossvit_small_240',\n 'crossvit_tiny_240',\n 'cs3darknet_focus_l',\n 'cs3darknet_focus_m',\n 'cs3darknet_l',\n 'cs3darknet_m',\n 'cs3darknet_x',\n 'cs3edgenet_x',\n 'cs3se_edgenet_x',\n 'cs3sedarknet_l',\n 'cs3sedarknet_x',\n 'cspdarknet53',\n 'cspresnet50',\n 'cspresnext50',\n 'darknet53',\n 'darknetaa53',\n 'deit3_base_patch16_224',\n 'deit3_base_patch16_224_in21ft1k',\n 'deit3_base_patch16_384',\n 'deit3_base_patch16_384_in21ft1k',\n 'deit3_huge_patch14_224',\n 'deit3_huge_patch14_224_in21ft1k',\n 'deit3_large_patch16_224',\n 'deit3_large_patch16_224_in21ft1k',\n 'deit3_large_patch16_384',\n 'deit3_large_patch16_384_in21ft1k',\n 'deit3_medium_patch16_224',\n 'deit3_medium_patch16_224_in21ft1k',\n 'deit3_small_patch16_224',\n 'deit3_small_patch16_224_in21ft1k',\n 'deit3_small_patch16_384',\n 'deit3_small_patch16_384_in21ft1k',\n 'deit_base_distilled_patch16_224',\n 'deit_base_distilled_patch16_384',\n 'deit_base_patch16_224',\n 'deit_base_patch16_384',\n 'deit_small_distilled_patch16_224',\n 'deit_small_patch16_224',\n 'deit_tiny_distilled_patch16_224',\n 'deit_tiny_patch16_224',\n 'densenet121',\n 'densenet161',\n 'densenet169',\n 'densenet201',\n 'densenetblur121d',\n 'dla34',\n 'dla46_c',\n 'dla46x_c',\n 'dla60',\n 'dla60_res2net',\n 'dla60_res2next',\n 'dla60x',\n 'dla60x_c',\n 'dla102',\n 'dla102x',\n 'dla102x2',\n 'dla169',\n 'dm_nfnet_f0',\n 'dm_nfnet_f1',\n 'dm_nfnet_f2',\n 'dm_nfnet_f3',\n 'dm_nfnet_f4',\n 'dm_nfnet_f5',\n 'dm_nfnet_f6',\n 'dpn68',\n 'dpn68b',\n 'dpn92',\n 'dpn98',\n 'dpn107',\n 'dpn131',\n 'eca_botnext26ts_256',\n 'eca_halonext26ts',\n 'eca_nfnet_l0',\n 'eca_nfnet_l1',\n 'eca_nfnet_l2',\n 'eca_resnet33ts',\n 'eca_resnext26ts',\n 'ecaresnet26t',\n 'ecaresnet50d',\n 'ecaresnet50d_pruned',\n 'ecaresnet50t',\n 'ecaresnet101d',\n 'ecaresnet101d_pruned',\n 'ecaresnet269d',\n 'ecaresnetlight',\n 'edgenext_base',\n 'edgenext_small',\n 'edgenext_small_rw',\n 'edgenext_x_small',\n 'edgenext_xx_small',\n 'efficientformer_l1',\n 'efficientformer_l3',\n 'efficientformer_l7',\n 'efficientnet_b0',\n 'efficientnet_b1',\n 'efficientnet_b1_pruned',\n 'efficientnet_b2',\n 'efficientnet_b2_pruned',\n 'efficientnet_b3',\n 'efficientnet_b3_pruned',\n 'efficientnet_b4',\n 'efficientnet_el',\n 'efficientnet_el_pruned',\n 'efficientnet_em',\n 'efficientnet_es',\n 'efficientnet_es_pruned',\n 'efficientnet_lite0',\n 'efficientnetv2_rw_m',\n 'efficientnetv2_rw_s',\n 'efficientnetv2_rw_t',\n 'ens_adv_inception_resnet_v2',\n 'ese_vovnet19b_dw',\n 'ese_vovnet39b',\n 'fbnetc_100',\n 'fbnetv3_b',\n 'fbnetv3_d',\n 'fbnetv3_g',\n 'gc_efficientnetv2_rw_t',\n 'gcresnet33ts',\n 'gcresnet50t',\n 'gcresnext26ts',\n 'gcresnext50ts',\n 'gcvit_base',\n 'gcvit_small',\n 'gcvit_tiny',\n 'gcvit_xtiny',\n 'gcvit_xxtiny',\n 'gernet_l',\n 'gernet_m',\n 'gernet_s',\n 'ghostnet_100',\n 'gluon_inception_v3',\n 'gluon_resnet18_v1b',\n 'gluon_resnet34_v1b',\n 'gluon_resnet50_v1b',\n 'gluon_resnet50_v1c',\n 'gluon_resnet50_v1d',\n 'gluon_resnet50_v1s',\n 'gluon_resnet101_v1b',\n 'gluon_resnet101_v1c',\n 'gluon_resnet101_v1d',\n 'gluon_resnet101_v1s',\n 'gluon_resnet152_v1b',\n 'gluon_resnet152_v1c',\n 'gluon_resnet152_v1d',\n 'gluon_resnet152_v1s',\n 'gluon_resnext50_32x4d',\n 'gluon_resnext101_32x4d',\n 'gluon_resnext101_64x4d',\n 'gluon_senet154',\n 'gluon_seresnext50_32x4d',\n 'gluon_seresnext101_32x4d',\n 'gluon_seresnext101_64x4d',\n 'gluon_xception65',\n 'gmixer_24_224',\n 'gmlp_s16_224',\n 'halo2botnet50ts_256',\n 'halonet26t',\n 'halonet50ts',\n 'haloregnetz_b',\n 'hardcorenas_a',\n 'hardcorenas_b',\n 'hardcorenas_c',\n 'hardcorenas_d',\n 'hardcorenas_e',\n 'hardcorenas_f',\n 'hrnet_w18',\n 'hrnet_w18_small',\n 'hrnet_w18_small_v2',\n 'hrnet_w30',\n 'hrnet_w32',\n 'hrnet_w40',\n 'hrnet_w44',\n 'hrnet_w48',\n 'hrnet_w64',\n 'ig_resnext101_32x8d',\n 'ig_resnext101_32x16d',\n 'ig_resnext101_32x32d',\n 'ig_resnext101_32x48d',\n 'inception_resnet_v2',\n 'inception_v3',\n 'inception_v4',\n 'jx_nest_base',\n 'jx_nest_small',\n 'jx_nest_tiny',\n 'lambda_resnet26rpt_256',\n 'lambda_resnet26t',\n 'lambda_resnet50ts',\n 'lamhalobotnet50ts_256',\n 'lcnet_050',\n 'lcnet_075',\n 'lcnet_100',\n 'legacy_senet154',\n 'legacy_seresnet18',\n 'legacy_seresnet34',\n 'legacy_seresnet50',\n 'legacy_seresnet101',\n 'legacy_seresnet152',\n 'legacy_seresnext26_32x4d',\n 'legacy_seresnext50_32x4d',\n 'legacy_seresnext101_32x4d',\n 'levit_128',\n 'levit_128s',\n 'levit_192',\n 'levit_256',\n 'levit_384',\n 'maxvit_nano_rw_256',\n 'maxvit_rmlp_nano_rw_256',\n 'maxvit_rmlp_pico_rw_256',\n 'maxvit_rmlp_tiny_rw_256',\n 'maxvit_tiny_rw_224',\n 'mixer_b16_224',\n 'mixer_b16_224_in21k',\n 'mixer_b16_224_miil',\n 'mixer_b16_224_miil_in21k',\n 'mixer_l16_224',\n 'mixer_l16_224_in21k',\n 'mixnet_l',\n 'mixnet_m',\n 'mixnet_s',\n 'mixnet_xl',\n 'mnasnet_100',\n 'mnasnet_small',\n 'mobilenetv2_050',\n 'mobilenetv2_100',\n 'mobilenetv2_110d',\n 'mobilenetv2_120d',\n 'mobilenetv2_140',\n 'mobilenetv3_large_100',\n 'mobilenetv3_large_100_miil',\n 'mobilenetv3_large_100_miil_in21k',\n 'mobilenetv3_rw',\n 'mobilenetv3_small_050',\n 'mobilenetv3_small_075',\n 'mobilenetv3_small_100',\n 'mobilevit_s',\n 'mobilevit_xs',\n 'mobilevit_xxs',\n 'mobilevitv2_050',\n 'mobilevitv2_075',\n 'mobilevitv2_100',\n 'mobilevitv2_125',\n 'mobilevitv2_150',\n 'mobilevitv2_150_384_in22ft1k',\n 'mobilevitv2_150_in22ft1k',\n 'mobilevitv2_175',\n 'mobilevitv2_175_384_in22ft1k',\n 'mobilevitv2_175_in22ft1k',\n 'mobilevitv2_200',\n 'mobilevitv2_200_384_in22ft1k',\n 'mobilevitv2_200_in22ft1k',\n 'mvitv2_base',\n 'mvitv2_large',\n 'mvitv2_small',\n 'mvitv2_tiny',\n 'nasnetalarge',\n 'nf_regnet_b1',\n 'nf_resnet50',\n 'nfnet_l0',\n 'pit_b_224',\n 'pit_b_distilled_224',\n 'pit_s_224',\n 'pit_s_distilled_224',\n 'pit_ti_224',\n 'pit_ti_distilled_224',\n 'pit_xs_224',\n 'pit_xs_distilled_224',\n 'pnasnet5large',\n 'poolformer_m36',\n 'poolformer_m48',\n 'poolformer_s12',\n 'poolformer_s24',\n 'poolformer_s36',\n 'pvt_v2_b0',\n 'pvt_v2_b1',\n 'pvt_v2_b2',\n 'pvt_v2_b2_li',\n 'pvt_v2_b3',\n 'pvt_v2_b4',\n 'pvt_v2_b5',\n 'regnetv_040',\n 'regnetv_064',\n 'regnetx_002',\n 'regnetx_004',\n 'regnetx_006',\n 'regnetx_008',\n 'regnetx_016',\n 'regnetx_032',\n 'regnetx_040',\n 'regnetx_064',\n 'regnetx_080',\n 'regnetx_120',\n 'regnetx_160',\n 'regnetx_320',\n 'regnety_002',\n 'regnety_004',\n 'regnety_006',\n 'regnety_008',\n 'regnety_016',\n 'regnety_032',\n 'regnety_040',\n 'regnety_064',\n 'regnety_080',\n 'regnety_120',\n 'regnety_160',\n 'regnety_320',\n 'regnetz_040',\n 'regnetz_040h',\n 'regnetz_b16',\n 'regnetz_c16',\n 'regnetz_c16_evos',\n 'regnetz_d8',\n 'regnetz_d8_evos',\n 'regnetz_d32',\n 'regnetz_e8',\n 'repvgg_a2',\n 'repvgg_b0',\n 'repvgg_b1',\n 'repvgg_b1g4',\n 'repvgg_b2',\n 'repvgg_b2g4',\n 'repvgg_b3',\n 'repvgg_b3g4',\n 'res2net50_14w_8s',\n 'res2net50_26w_4s',\n 'res2net50_26w_6s',\n 'res2net50_26w_8s',\n 'res2net50_48w_2s',\n 'res2net101_26w_4s',\n 'res2next50',\n 'resmlp_12_224',\n 'resmlp_12_224_dino',\n 'resmlp_12_distilled_224',\n 'resmlp_24_224',\n 'resmlp_24_224_dino',\n 'resmlp_24_distilled_224',\n 'resmlp_36_224',\n 'resmlp_36_distilled_224',\n 'resmlp_big_24_224',\n 'resmlp_big_24_224_in22ft1k',\n 'resmlp_big_24_distilled_224',\n 'resnest14d',\n 'resnest26d',\n 'resnest50d',\n 'resnest50d_1s4x24d',\n 'resnest50d_4s2x40d',\n 'resnest101e',\n 'resnest200e',\n 'resnest269e',\n 'resnet10t',\n 'resnet14t',\n 'resnet18',\n 'resnet18d',\n 'resnet26',\n 'resnet26d',\n 'resnet26t',\n 'resnet32ts',\n 'resnet33ts',\n 'resnet34',\n 'resnet34d',\n 'resnet50',\n 'resnet50_gn',\n 'resnet50d',\n 'resnet51q',\n 'resnet61q',\n 'resnet101',\n 'resnet101d',\n 'resnet152',\n 'resnet152d',\n 'resnet200d',\n 'resnetaa50',\n 'resnetblur50',\n 'resnetrs50',\n 'resnetrs101',\n 'resnetrs152',\n 'resnetrs200',\n 'resnetrs270',\n 'resnetrs350',\n 'resnetrs420',\n 'resnetv2_50',\n 'resnetv2_50d_evos',\n 'resnetv2_50d_gn',\n 'resnetv2_50x1_bit_distilled',\n 'resnetv2_50x1_bitm',\n 'resnetv2_50x1_bitm_in21k',\n 'resnetv2_50x3_bitm',\n 'resnetv2_50x3_bitm_in21k',\n 'resnetv2_101',\n 'resnetv2_101x1_bitm',\n 'resnetv2_101x1_bitm_in21k',\n 'resnetv2_101x3_bitm',\n 'resnetv2_101x3_bitm_in21k',\n 'resnetv2_152x2_bit_teacher',\n 'resnetv2_152x2_bit_teacher_384',\n 'resnetv2_152x2_bitm',\n 'resnetv2_152x2_bitm_in21k',\n 'resnetv2_152x4_bitm',\n 'resnetv2_152x4_bitm_in21k',\n 'resnext26ts',\n 'resnext50_32x4d',\n 'resnext50d_32x4d',\n 'resnext101_32x8d',\n 'resnext101_64x4d',\n 'rexnet_100',\n 'rexnet_130',\n 'rexnet_150',\n 'rexnet_200',\n 'sebotnet33ts_256',\n 'sehalonet33ts',\n 'selecsls42b',\n 'selecsls60',\n 'selecsls60b',\n 'semnasnet_075',\n 'semnasnet_100',\n 'sequencer2d_l',\n 'sequencer2d_m',\n 'sequencer2d_s',\n 'seresnet33ts',\n 'seresnet50',\n 'seresnet152d',\n 'seresnext26d_32x4d',\n 'seresnext26t_32x4d',\n 'seresnext26ts',\n 'seresnext50_32x4d',\n 'seresnext101_32x8d',\n 'seresnext101d_32x8d',\n 'seresnextaa101d_32x8d',\n 'skresnet18',\n 'skresnet34',\n 'skresnext50_32x4d',\n 'spnasnet_100',\n 'ssl_resnet18',\n 'ssl_resnet50',\n 'ssl_resnext50_32x4d',\n 'ssl_resnext101_32x4d',\n 'ssl_resnext101_32x8d',\n 'ssl_resnext101_32x16d',\n 'swin_base_patch4_window7_224',\n 'swin_base_patch4_window7_224_in22k',\n 'swin_base_patch4_window12_384',\n 'swin_base_patch4_window12_384_in22k',\n 'swin_large_patch4_window7_224',\n 'swin_large_patch4_window7_224_in22k',\n 'swin_large_patch4_window12_384',\n 'swin_large_patch4_window12_384_in22k',\n 'swin_s3_base_224',\n 'swin_s3_small_224',\n 'swin_s3_tiny_224',\n 'swin_small_patch4_window7_224',\n 'swin_tiny_patch4_window7_224',\n 'swinv2_base_window8_256',\n 'swinv2_base_window12_192_22k',\n 'swinv2_base_window12to16_192to256_22kft1k',\n 'swinv2_base_window12to24_192to384_22kft1k',\n 'swinv2_base_window16_256',\n 'swinv2_cr_small_224',\n 'swinv2_cr_small_ns_224',\n 'swinv2_cr_tiny_ns_224',\n 'swinv2_large_window12_192_22k',\n 'swinv2_large_window12to16_192to256_22kft1k',\n 'swinv2_large_window12to24_192to384_22kft1k',\n 'swinv2_small_window8_256',\n 'swinv2_small_window16_256',\n 'swinv2_tiny_window8_256',\n 'swinv2_tiny_window16_256',\n 'swsl_resnet18',\n 'swsl_resnet50',\n 'swsl_resnext50_32x4d',\n 'swsl_resnext101_32x4d',\n 'swsl_resnext101_32x8d',\n 'swsl_resnext101_32x16d',\n 'tf_efficientnet_b0',\n 'tf_efficientnet_b0_ap',\n 'tf_efficientnet_b0_ns',\n 'tf_efficientnet_b1',\n 'tf_efficientnet_b1_ap',\n 'tf_efficientnet_b1_ns',\n 'tf_efficientnet_b2',\n 'tf_efficientnet_b2_ap',\n 'tf_efficientnet_b2_ns',\n 'tf_efficientnet_b3',\n 'tf_efficientnet_b3_ap',\n 'tf_efficientnet_b3_ns',\n 'tf_efficientnet_b4',\n 'tf_efficientnet_b4_ap',\n 'tf_efficientnet_b4_ns',\n 'tf_efficientnet_b5',\n 'tf_efficientnet_b5_ap',\n 'tf_efficientnet_b5_ns',\n 'tf_efficientnet_b6',\n 'tf_efficientnet_b6_ap',\n 'tf_efficientnet_b6_ns',\n 'tf_efficientnet_b7',\n 'tf_efficientnet_b7_ap',\n 'tf_efficientnet_b7_ns',\n 'tf_efficientnet_b8',\n 'tf_efficientnet_b8_ap',\n 'tf_efficientnet_cc_b0_4e',\n 'tf_efficientnet_cc_b0_8e',\n 'tf_efficientnet_cc_b1_8e',\n 'tf_efficientnet_el',\n 'tf_efficientnet_em',\n 'tf_efficientnet_es',\n 'tf_efficientnet_l2_ns',\n 'tf_efficientnet_l2_ns_475',\n 'tf_efficientnet_lite0',\n 'tf_efficientnet_lite1',\n 'tf_efficientnet_lite2',\n 'tf_efficientnet_lite3',\n 'tf_efficientnet_lite4',\n 'tf_efficientnetv2_b0',\n 'tf_efficientnetv2_b1',\n 'tf_efficientnetv2_b2',\n 'tf_efficientnetv2_b3',\n 'tf_efficientnetv2_l',\n 'tf_efficientnetv2_l_in21ft1k',\n 'tf_efficientnetv2_l_in21k',\n 'tf_efficientnetv2_m',\n 'tf_efficientnetv2_m_in21ft1k',\n 'tf_efficientnetv2_m_in21k',\n 'tf_efficientnetv2_s',\n 'tf_efficientnetv2_s_in21ft1k',\n 'tf_efficientnetv2_s_in21k',\n 'tf_efficientnetv2_xl_in21ft1k',\n 'tf_efficientnetv2_xl_in21k',\n 'tf_inception_v3',\n 'tf_mixnet_l',\n 'tf_mixnet_m',\n 'tf_mixnet_s',\n 'tf_mobilenetv3_large_075',\n 'tf_mobilenetv3_large_100',\n 'tf_mobilenetv3_large_minimal_100',\n 'tf_mobilenetv3_small_075',\n 'tf_mobilenetv3_small_100',\n 'tf_mobilenetv3_small_minimal_100',\n 'tinynet_a',\n 'tinynet_b',\n 'tinynet_c',\n 'tinynet_d',\n 'tinynet_e',\n 'tnt_s_patch16_224',\n 'tresnet_l',\n 'tresnet_l_448',\n 'tresnet_m',\n 'tresnet_m_448',\n 'tresnet_m_miil_in21k',\n 'tresnet_v2_l',\n 'tresnet_xl',\n 'tresnet_xl_448',\n 'tv_densenet121',\n 'tv_resnet34',\n 'tv_resnet50',\n 'tv_resnet101',\n 'tv_resnet152',\n 'tv_resnext50_32x4d',\n 'twins_pcpvt_base',\n 'twins_pcpvt_large',\n 'twins_pcpvt_small',\n 'twins_svt_base',\n 'twins_svt_large',\n 'twins_svt_small',\n 'vgg11',\n 'vgg11_bn',\n 'vgg13',\n 'vgg13_bn',\n 'vgg16',\n 'vgg16_bn',\n 'vgg19',\n 'vgg19_bn',\n 'visformer_small',\n 'vit_base_patch8_224',\n 'vit_base_patch8_224_dino',\n 'vit_base_patch8_224_in21k',\n 'vit_base_patch16_224',\n 'vit_base_patch16_224_dino',\n 'vit_base_patch16_224_in21k',\n 'vit_base_patch16_224_miil',\n 'vit_base_patch16_224_miil_in21k',\n 'vit_base_patch16_224_sam',\n 'vit_base_patch16_384',\n 'vit_base_patch16_rpn_224',\n 'vit_base_patch32_224',\n 'vit_base_patch32_224_clip_laion2b',\n 'vit_base_patch32_224_in21k',\n 'vit_base_patch32_224_sam',\n 'vit_base_patch32_384',\n 'vit_base_r50_s16_224_in21k',\n 'vit_base_r50_s16_384',\n 'vit_giant_patch14_224_clip_laion2b',\n 'vit_huge_patch14_224_clip_laion2b',\n 'vit_huge_patch14_224_in21k',\n 'vit_large_patch14_224_clip_laion2b',\n 'vit_large_patch16_224',\n 'vit_large_patch16_224_in21k',\n 'vit_large_patch16_384',\n 'vit_large_patch32_224_in21k',\n 'vit_large_patch32_384',\n 'vit_large_r50_s32_224',\n 'vit_large_r50_s32_224_in21k',\n 'vit_large_r50_s32_384',\n 'vit_relpos_base_patch16_224',\n 'vit_relpos_base_patch16_clsgap_224',\n 'vit_relpos_base_patch32_plus_rpn_256',\n 'vit_relpos_medium_patch16_224',\n 'vit_relpos_medium_patch16_cls_224',\n 'vit_relpos_medium_patch16_rpn_224',\n 'vit_relpos_small_patch16_224',\n 'vit_small_patch8_224_dino',\n 'vit_small_patch16_224',\n 'vit_small_patch16_224_dino',\n 'vit_small_patch16_224_in21k',\n 'vit_small_patch16_384',\n 'vit_small_patch32_224',\n 'vit_small_patch32_224_in21k',\n 'vit_small_patch32_384',\n 'vit_small_r26_s32_224',\n 'vit_small_r26_s32_224_in21k',\n 'vit_small_r26_s32_384',\n 'vit_srelpos_medium_patch16_224',\n 'vit_srelpos_small_patch16_224',\n 'vit_tiny_patch16_224',\n 'vit_tiny_patch16_224_in21k',\n 'vit_tiny_patch16_384',\n 'vit_tiny_r_s16_p8_224',\n 'vit_tiny_r_s16_p8_224_in21k',\n 'vit_tiny_r_s16_p8_384',\n 'volo_d1_224',\n 'volo_d1_384',\n 'volo_d2_224',\n 'volo_d2_384',\n 'volo_d3_224',\n 'volo_d3_448',\n 'volo_d4_224',\n 'volo_d4_448',\n 'volo_d5_224',\n 'volo_d5_448',\n 'volo_d5_512',\n 'wide_resnet50_2',\n 'wide_resnet101_2',\n 'xception',\n 'xception41',\n 'xception41p',\n 'xception65',\n 'xception65p',\n 'xception71',\n 'xcit_large_24_p8_224',\n 'xcit_large_24_p8_224_dist',\n 'xcit_large_24_p8_384_dist',\n 'xcit_large_24_p16_224',\n 'xcit_large_24_p16_224_dist',\n 'xcit_large_24_p16_384_dist',\n 'xcit_medium_24_p8_224',\n 'xcit_medium_24_p8_224_dist',\n 'xcit_medium_24_p8_384_dist',\n 'xcit_medium_24_p16_224',\n 'xcit_medium_24_p16_224_dist',\n 'xcit_medium_24_p16_384_dist',\n 'xcit_nano_12_p8_224',\n 'xcit_nano_12_p8_224_dist',\n 'xcit_nano_12_p8_384_dist',\n 'xcit_nano_12_p16_224',\n 'xcit_nano_12_p16_224_dist',\n 'xcit_nano_12_p16_384_dist',\n 'xcit_small_12_p8_224',\n 'xcit_small_12_p8_224_dist',\n 'xcit_small_12_p8_384_dist',\n 'xcit_small_12_p16_224',\n 'xcit_small_12_p16_224_dist',\n 'xcit_small_12_p16_384_dist',\n 'xcit_small_24_p8_224',\n 'xcit_small_24_p8_224_dist',\n 'xcit_small_24_p8_384_dist',\n 'xcit_small_24_p16_224',\n 'xcit_small_24_p16_224_dist',\n 'xcit_small_24_p16_384_dist',\n 'xcit_tiny_12_p8_224',\n 'xcit_tiny_12_p8_224_dist',\n 'xcit_tiny_12_p8_384_dist',\n 'xcit_tiny_12_p16_224',\n 'xcit_tiny_12_p16_224_dist',\n 'xcit_tiny_12_p16_384_dist',\n 'xcit_tiny_24_p8_224',\n 'xcit_tiny_24_p8_224_dist',\n 'xcit_tiny_24_p8_384_dist',\n 'xcit_tiny_24_p16_224',\n 'xcit_tiny_24_p16_224_dist',\n 'xcit_tiny_24_p16_384_dist']"
     },
     "execution_count": 26,
     "metadata": {},
     "output_type": "execute_result"
    }
   ],
   "source": [
    "timm.list_models(pretrained=True)"
   ],
   "metadata": {
    "collapsed": false,
    "pycharm": {
     "name": "#%%\n"
    }
   }
  },
  {
   "cell_type": "code",
   "execution_count": 27,
   "outputs": [],
   "source": [
    "from transformers import AutoTokenizer"
   ],
   "metadata": {
    "collapsed": false,
    "pycharm": {
     "name": "#%%\n"
    }
   }
  },
  {
   "cell_type": "code",
   "execution_count": 28,
   "outputs": [
    {
     "data": {
      "text/plain": "Downloading:   0%|          | 0.00/375 [00:00<?, ?B/s]",
      "application/vnd.jupyter.widget-view+json": {
       "version_major": 2,
       "version_minor": 0,
       "model_id": "14feb26140414cd9b3c249db2241d1fa"
      }
     },
     "metadata": {},
     "output_type": "display_data"
    },
    {
     "data": {
      "text/plain": "Downloading:   0%|          | 0.00/248k [00:00<?, ?B/s]",
      "application/vnd.jupyter.widget-view+json": {
       "version_major": 2,
       "version_minor": 0,
       "model_id": "4c652a6620174d779f00d44ef7affeae"
      }
     },
     "metadata": {},
     "output_type": "display_data"
    },
    {
     "data": {
      "text/plain": "Downloading:   0%|          | 0.00/752k [00:00<?, ?B/s]",
      "application/vnd.jupyter.widget-view+json": {
       "version_major": 2,
       "version_minor": 0,
       "model_id": "359a0ee16dd54f68905d9d655229c5dc"
      }
     },
     "metadata": {},
     "output_type": "display_data"
    },
    {
     "data": {
      "text/plain": "Downloading:   0%|          | 0.00/173 [00:00<?, ?B/s]",
      "application/vnd.jupyter.widget-view+json": {
       "version_major": 2,
       "version_minor": 0,
       "model_id": "7dc1a13ec8724e72b8c1ec613adecf89"
      }
     },
     "metadata": {},
     "output_type": "display_data"
    }
   ],
   "source": [
    "tokenizer = AutoTokenizer.from_pretrained('klue/roberta-large')"
   ],
   "metadata": {
    "collapsed": false,
    "pycharm": {
     "name": "#%%\n"
    }
   }
  },
  {
   "cell_type": "code",
   "execution_count": 30,
   "outputs": [
    {
     "data": {
      "text/plain": "            id                       img_path  \\\n0  TRAIN_00000  ./image/train/TRAIN_00000.jpg   \n1  TRAIN_00001  ./image/train/TRAIN_00001.jpg   \n2  TRAIN_00002  ./image/train/TRAIN_00002.jpg   \n3  TRAIN_00003  ./image/train/TRAIN_00003.jpg   \n4  TRAIN_00004  ./image/train/TRAIN_00004.jpg   \n\n                                            overview cat1    cat2   cat3  \n0  소안항은 조용한 섬으로 인근해안이 청정해역으로 일찍이 김 양식을 해서 높은 소득을 ...   자연   자연관광지  항구/포구  \n1  경기도 이천시 모가면에 있는 골프장으로 대중제 18홀이다. 회원제로 개장을 했다가 ...  레포츠  육상 레포츠     골프  \n2  금오산성숯불갈비는 한우고기만을 전문적으로 취급하고 사용하는 부식 자재 또한 유기농법...   음식     음식점     한식  \n3  철판 위에서 요리하는 안동찜닭을 맛볼 수 있는 곳이다. 경상북도 안동시에 있는 한식...   음식     음식점     한식  \n4  ※ 영업시간 10:30 ~ 20:30\\n\\n3대에 걸쳐 아귀만을 전문으로 취급하는 ...   음식     음식점     한식  ",
      "text/html": "<div>\n<style scoped>\n    .dataframe tbody tr th:only-of-type {\n        vertical-align: middle;\n    }\n\n    .dataframe tbody tr th {\n        vertical-align: top;\n    }\n\n    .dataframe thead th {\n        text-align: right;\n    }\n</style>\n<table border=\"1\" class=\"dataframe\">\n  <thead>\n    <tr style=\"text-align: right;\">\n      <th></th>\n      <th>id</th>\n      <th>img_path</th>\n      <th>overview</th>\n      <th>cat1</th>\n      <th>cat2</th>\n      <th>cat3</th>\n    </tr>\n  </thead>\n  <tbody>\n    <tr>\n      <th>0</th>\n      <td>TRAIN_00000</td>\n      <td>./image/train/TRAIN_00000.jpg</td>\n      <td>소안항은 조용한 섬으로 인근해안이 청정해역으로 일찍이 김 양식을 해서 높은 소득을 ...</td>\n      <td>자연</td>\n      <td>자연관광지</td>\n      <td>항구/포구</td>\n    </tr>\n    <tr>\n      <th>1</th>\n      <td>TRAIN_00001</td>\n      <td>./image/train/TRAIN_00001.jpg</td>\n      <td>경기도 이천시 모가면에 있는 골프장으로 대중제 18홀이다. 회원제로 개장을 했다가 ...</td>\n      <td>레포츠</td>\n      <td>육상 레포츠</td>\n      <td>골프</td>\n    </tr>\n    <tr>\n      <th>2</th>\n      <td>TRAIN_00002</td>\n      <td>./image/train/TRAIN_00002.jpg</td>\n      <td>금오산성숯불갈비는 한우고기만을 전문적으로 취급하고 사용하는 부식 자재 또한 유기농법...</td>\n      <td>음식</td>\n      <td>음식점</td>\n      <td>한식</td>\n    </tr>\n    <tr>\n      <th>3</th>\n      <td>TRAIN_00003</td>\n      <td>./image/train/TRAIN_00003.jpg</td>\n      <td>철판 위에서 요리하는 안동찜닭을 맛볼 수 있는 곳이다. 경상북도 안동시에 있는 한식...</td>\n      <td>음식</td>\n      <td>음식점</td>\n      <td>한식</td>\n    </tr>\n    <tr>\n      <th>4</th>\n      <td>TRAIN_00004</td>\n      <td>./image/train/TRAIN_00004.jpg</td>\n      <td>※ 영업시간 10:30 ~ 20:30\\n\\n3대에 걸쳐 아귀만을 전문으로 취급하는 ...</td>\n      <td>음식</td>\n      <td>음식점</td>\n      <td>한식</td>\n    </tr>\n  </tbody>\n</table>\n</div>"
     },
     "execution_count": 30,
     "metadata": {},
     "output_type": "execute_result"
    }
   ],
   "source": [
    "train_df.head()"
   ],
   "metadata": {
    "collapsed": false,
    "pycharm": {
     "name": "#%%\n"
    }
   }
  },
  {
   "cell_type": "code",
   "execution_count": 33,
   "outputs": [
    {
     "data": {
      "text/plain": "{'input_ids': [0, 1282, 2283, 2421, 2073, 5574, 2470, 1264, 6233, 4973, 2097, 2283, 2052, 8808, 2097, 2331, 6233, 12168, 648, 6277, 2069, 3689, 772, 2073, 4429, 2069, 4705, 2088, 1513, 4007, 4822, 3080, 2067, 2115, 2200, 2119, 4455, 2205, 2062, 18, 1896, 4240, 2170, 4198, 2897, 25014, 2031, 2073, 1264, 11336, 2031, 2079, 11807, 2470, 29223, 2069, 8318, 944, 2468, 818, 2088, 1513, 4007, 19723, 904, 1264, 2079, 13104, 2073, 4822, 2079, 8020, 2069, 4311, 1873, 2088, 1513, 2259, 885, 2205, 2062, 18, 3819, 16, 1264, 2170, 2259, 31498, 2173, 7769, 16, 9191, 20461, 886, 2079, 11016, 2116, 4841, 9005, 2088, 1513, 4007, 16, 5088, 20584, 1875, 2051, 2021, 12900, 2052, 5166, 2088, 1513, 2062, 18, 32, 69, 2008, 34, 2, 1, 1, 1, 1, 1, 1, 1, 1, 1, 1, 1, 1, 1, 1, 1, 1, 1, 1, 1, 1, 1, 1, 1, 1, 1, 1, 1, 1, 1, 1, 1, 1, 1, 1, 1, 1, 1, 1, 1, 1, 1, 1, 1, 1, 1, 1, 1, 1, 1, 1, 1, 1, 1, 1, 1, 1, 1, 1, 1, 1, 1, 1, 1, 1, 1, 1, 1, 1, 1, 1, 1, 1, 1, 1, 1, 1, 1, 1, 1, 1, 1, 1, 1, 1, 1, 1, 1, 1, 1, 1, 1, 1, 1, 1, 1, 1, 1, 1, 1, 1, 1, 1, 1, 1, 1, 1, 1, 1, 1, 1, 1, 1, 1, 1, 1, 1, 1, 1, 1, 1, 1, 1, 1, 1, 1, 1, 1, 1, 1, 1, 1, 1, 1, 1, 1, 1, 1, 1, 1, 1, 1, 1, 1, 1, 1, 1, 1, 1, 1, 1, 1, 1, 1, 1, 1, 1, 1, 1, 1, 1, 1, 1, 1, 1, 1, 1, 1, 1, 1, 1, 1, 1, 1, 1, 1, 1, 1, 1, 1, 1, 1, 1, 1, 1, 1, 1, 1, 1, 1, 1, 1, 1, 1, 1, 1, 1, 1, 1, 1, 1, 1, 1, 1, 1, 1, 1, 1, 1, 1, 1, 1, 1, 1, 1, 1, 1, 1, 1, 1, 1, 1, 1, 1, 1, 1, 1, 1, 1, 1, 1, 1, 1, 1, 1, 1, 1, 1, 1, 1, 1, 1, 1, 1, 1, 1, 1, 1, 1, 1, 1, 1, 1, 1, 1, 1, 1, 1, 1, 1, 1, 1, 1, 1, 1, 1, 1, 1, 1, 1, 1, 1, 1, 1, 1, 1, 1, 1, 1, 1, 1, 1, 1, 1, 1, 1, 1, 1, 1, 1, 1, 1, 1, 1, 1, 1, 1, 1, 1, 1, 1, 1, 1, 1, 1, 1, 1, 1, 1, 1, 1, 1, 1, 1, 1, 1, 1, 1, 1, 1, 1, 1, 1, 1, 1, 1, 1, 1, 1, 1, 1, 1, 1, 1, 1, 1, 1, 1, 1, 1, 1, 1, 1, 1, 1, 1, 1, 1, 1, 1, 1, 1, 1, 1, 1, 1, 1, 1, 1, 1, 1, 1, 1, 1, 1, 1, 1, 1, 1, 1, 1, 1, 1, 1, 1, 1, 1, 1, 1, 1, 1, 1, 1, 1, 1, 1, 1, 1, 1, 1, 1, 1, 1], 'token_type_ids': [0, 0, 0, 0, 0, 0, 0, 0, 0, 0, 0, 0, 0, 0, 0, 0, 0, 0, 0, 0, 0, 0, 0, 0, 0, 0, 0, 0, 0, 0, 0, 0, 0, 0, 0, 0, 0, 0, 0, 0, 0, 0, 0, 0, 0, 0, 0, 0, 0, 0, 0, 0, 0, 0, 0, 0, 0, 0, 0, 0, 0, 0, 0, 0, 0, 0, 0, 0, 0, 0, 0, 0, 0, 0, 0, 0, 0, 0, 0, 0, 0, 0, 0, 0, 0, 0, 0, 0, 0, 0, 0, 0, 0, 0, 0, 0, 0, 0, 0, 0, 0, 0, 0, 0, 0, 0, 0, 0, 0, 0, 0, 0, 0, 0, 0, 0, 0, 0, 0, 0, 0, 0, 0, 0, 0, 0, 0, 0, 0, 0, 0, 0, 0, 0, 0, 0, 0, 0, 0, 0, 0, 0, 0, 0, 0, 0, 0, 0, 0, 0, 0, 0, 0, 0, 0, 0, 0, 0, 0, 0, 0, 0, 0, 0, 0, 0, 0, 0, 0, 0, 0, 0, 0, 0, 0, 0, 0, 0, 0, 0, 0, 0, 0, 0, 0, 0, 0, 0, 0, 0, 0, 0, 0, 0, 0, 0, 0, 0, 0, 0, 0, 0, 0, 0, 0, 0, 0, 0, 0, 0, 0, 0, 0, 0, 0, 0, 0, 0, 0, 0, 0, 0, 0, 0, 0, 0, 0, 0, 0, 0, 0, 0, 0, 0, 0, 0, 0, 0, 0, 0, 0, 0, 0, 0, 0, 0, 0, 0, 0, 0, 0, 0, 0, 0, 0, 0, 0, 0, 0, 0, 0, 0, 0, 0, 0, 0, 0, 0, 0, 0, 0, 0, 0, 0, 0, 0, 0, 0, 0, 0, 0, 0, 0, 0, 0, 0, 0, 0, 0, 0, 0, 0, 0, 0, 0, 0, 0, 0, 0, 0, 0, 0, 0, 0, 0, 0, 0, 0, 0, 0, 0, 0, 0, 0, 0, 0, 0, 0, 0, 0, 0, 0, 0, 0, 0, 0, 0, 0, 0, 0, 0, 0, 0, 0, 0, 0, 0, 0, 0, 0, 0, 0, 0, 0, 0, 0, 0, 0, 0, 0, 0, 0, 0, 0, 0, 0, 0, 0, 0, 0, 0, 0, 0, 0, 0, 0, 0, 0, 0, 0, 0, 0, 0, 0, 0, 0, 0, 0, 0, 0, 0, 0, 0, 0, 0, 0, 0, 0, 0, 0, 0, 0, 0, 0, 0, 0, 0, 0, 0, 0, 0, 0, 0, 0, 0, 0, 0, 0, 0, 0, 0, 0, 0, 0, 0, 0, 0, 0, 0, 0, 0, 0, 0, 0, 0, 0, 0, 0, 0, 0, 0, 0, 0, 0, 0, 0, 0, 0, 0, 0, 0, 0, 0, 0, 0, 0, 0, 0, 0, 0, 0, 0, 0, 0, 0, 0, 0, 0, 0, 0, 0, 0, 0, 0, 0, 0, 0, 0, 0, 0, 0, 0, 0, 0, 0, 0, 0, 0, 0, 0, 0, 0, 0, 0, 0, 0, 0, 0, 0, 0, 0, 0, 0, 0, 0, 0, 0, 0, 0, 0, 0, 0, 0, 0, 0, 0, 0, 0, 0, 0, 0, 0], 'attention_mask': [1, 1, 1, 1, 1, 1, 1, 1, 1, 1, 1, 1, 1, 1, 1, 1, 1, 1, 1, 1, 1, 1, 1, 1, 1, 1, 1, 1, 1, 1, 1, 1, 1, 1, 1, 1, 1, 1, 1, 1, 1, 1, 1, 1, 1, 1, 1, 1, 1, 1, 1, 1, 1, 1, 1, 1, 1, 1, 1, 1, 1, 1, 1, 1, 1, 1, 1, 1, 1, 1, 1, 1, 1, 1, 1, 1, 1, 1, 1, 1, 1, 1, 1, 1, 1, 1, 1, 1, 1, 1, 1, 1, 1, 1, 1, 1, 1, 1, 1, 1, 1, 1, 1, 1, 1, 1, 1, 1, 1, 1, 1, 1, 1, 1, 1, 1, 1, 1, 1, 1, 0, 0, 0, 0, 0, 0, 0, 0, 0, 0, 0, 0, 0, 0, 0, 0, 0, 0, 0, 0, 0, 0, 0, 0, 0, 0, 0, 0, 0, 0, 0, 0, 0, 0, 0, 0, 0, 0, 0, 0, 0, 0, 0, 0, 0, 0, 0, 0, 0, 0, 0, 0, 0, 0, 0, 0, 0, 0, 0, 0, 0, 0, 0, 0, 0, 0, 0, 0, 0, 0, 0, 0, 0, 0, 0, 0, 0, 0, 0, 0, 0, 0, 0, 0, 0, 0, 0, 0, 0, 0, 0, 0, 0, 0, 0, 0, 0, 0, 0, 0, 0, 0, 0, 0, 0, 0, 0, 0, 0, 0, 0, 0, 0, 0, 0, 0, 0, 0, 0, 0, 0, 0, 0, 0, 0, 0, 0, 0, 0, 0, 0, 0, 0, 0, 0, 0, 0, 0, 0, 0, 0, 0, 0, 0, 0, 0, 0, 0, 0, 0, 0, 0, 0, 0, 0, 0, 0, 0, 0, 0, 0, 0, 0, 0, 0, 0, 0, 0, 0, 0, 0, 0, 0, 0, 0, 0, 0, 0, 0, 0, 0, 0, 0, 0, 0, 0, 0, 0, 0, 0, 0, 0, 0, 0, 0, 0, 0, 0, 0, 0, 0, 0, 0, 0, 0, 0, 0, 0, 0, 0, 0, 0, 0, 0, 0, 0, 0, 0, 0, 0, 0, 0, 0, 0, 0, 0, 0, 0, 0, 0, 0, 0, 0, 0, 0, 0, 0, 0, 0, 0, 0, 0, 0, 0, 0, 0, 0, 0, 0, 0, 0, 0, 0, 0, 0, 0, 0, 0, 0, 0, 0, 0, 0, 0, 0, 0, 0, 0, 0, 0, 0, 0, 0, 0, 0, 0, 0, 0, 0, 0, 0, 0, 0, 0, 0, 0, 0, 0, 0, 0, 0, 0, 0, 0, 0, 0, 0, 0, 0, 0, 0, 0, 0, 0, 0, 0, 0, 0, 0, 0, 0, 0, 0, 0, 0, 0, 0, 0, 0, 0, 0, 0, 0, 0, 0, 0, 0, 0, 0, 0, 0, 0, 0, 0, 0, 0, 0, 0, 0, 0, 0, 0, 0, 0, 0, 0, 0, 0, 0, 0, 0, 0, 0, 0, 0, 0, 0, 0, 0, 0, 0, 0, 0, 0, 0, 0, 0, 0, 0, 0, 0, 0, 0, 0, 0, 0, 0, 0, 0, 0, 0, 0, 0, 0, 0, 0, 0, 0, 0, 0, 0, 0]}"
     },
     "execution_count": 33,
     "metadata": {},
     "output_type": "execute_result"
    }
   ],
   "source": [
    "tokenizer(train_df['overview'][0],\n",
    "          padding='max_length')"
   ],
   "metadata": {
    "collapsed": false,
    "pycharm": {
     "name": "#%%\n"
    }
   }
  }
 ],
 "metadata": {
  "kernelspec": {
   "name": "venv",
   "language": "python",
   "display_name": "dacon"
  },
  "language_info": {
   "codemirror_mode": {
    "name": "ipython",
    "version": 2
   },
   "file_extension": ".py",
   "mimetype": "text/x-python",
   "name": "python",
   "nbconvert_exporter": "python",
   "pygments_lexer": "ipython2",
   "version": "2.7.6"
  }
 },
 "nbformat": 4,
 "nbformat_minor": 0
}